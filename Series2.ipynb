{
 "cells": [
  {
   "cell_type": "code",
   "execution_count": 24,
   "id": "9f160822",
   "metadata": {},
   "outputs": [],
   "source": [
    "import pandas as pd\n",
    "import numpy as np"
   ]
  },
  {
   "cell_type": "code",
   "execution_count": 2,
   "id": "60274817",
   "metadata": {},
   "outputs": [],
   "source": [
    "a = ['red', 'green', 'white']\n",
    "b = ['blue', 'pink']\n",
    "c = ['black']"
   ]
  },
  {
   "cell_type": "code",
   "execution_count": 5,
   "id": "1fdfb162",
   "metadata": {},
   "outputs": [
    {
     "data": {
      "text/plain": [
       "0    [red, green, white]\n",
       "1           [blue, pink]\n",
       "2                [black]\n",
       "dtype: object"
      ]
     },
     "execution_count": 5,
     "metadata": {},
     "output_type": "execute_result"
    }
   ],
   "source": [
    "ds = pd.Series([a, b, c])\n",
    "ds"
   ]
  },
  {
   "cell_type": "code",
   "execution_count": 9,
   "id": "71d2175b",
   "metadata": {},
   "outputs": [
    {
     "data": {
      "text/plain": [
       "0      red\n",
       "1    green\n",
       "2    white\n",
       "3     blue\n",
       "4     pink\n",
       "5    black\n",
       "dtype: object"
      ]
     },
     "execution_count": 9,
     "metadata": {},
     "output_type": "execute_result"
    }
   ],
   "source": [
    "ds = pd.Series([a, b, c])\n",
    "ds = ds.apply(pd.Series).stack().reset_index(drop=True)\n",
    "ds"
   ]
  },
  {
   "cell_type": "code",
   "execution_count": 11,
   "id": "613d1711",
   "metadata": {},
   "outputs": [
    {
     "data": {
      "text/plain": [
       "0       100\n",
       "1       200\n",
       "2       300\n",
       "3    python\n",
       "4    400.12\n",
       "dtype: object"
      ]
     },
     "execution_count": 11,
     "metadata": {},
     "output_type": "execute_result"
    }
   ],
   "source": [
    "#Write a Pandas program to add some data to an existing Series.\n",
    "ds = pd.Series(['100', '200', '300', 'python', '400.12'])\n",
    "ds"
   ]
  },
  {
   "cell_type": "code",
   "execution_count": 13,
   "id": "862868cd",
   "metadata": {},
   "outputs": [
    {
     "name": "stderr",
     "output_type": "stream",
     "text": [
      "C:\\Users\\Lenovo\\AppData\\Local\\Temp\\ipykernel_9228\\2425604350.py:1: FutureWarning: The series.append method is deprecated and will be removed from pandas in a future version. Use pandas.concat instead.\n",
      "  ds1 = ds.append(pd.Series(['500', 'php']))\n"
     ]
    },
    {
     "data": {
      "text/plain": [
       "0       100\n",
       "1       200\n",
       "2       300\n",
       "3    python\n",
       "4    400.12\n",
       "0       500\n",
       "1       php\n",
       "dtype: object"
      ]
     },
     "execution_count": 13,
     "metadata": {},
     "output_type": "execute_result"
    }
   ],
   "source": [
    "ds1 = ds.append(pd.Series(['500', 'php']))\n",
    "ds1"
   ]
  },
  {
   "cell_type": "code",
   "execution_count": 14,
   "id": "f061788c",
   "metadata": {},
   "outputs": [
    {
     "data": {
      "text/plain": [
       "0    0\n",
       "1    1\n",
       "2    2\n",
       "3    3\n",
       "4    4\n",
       "5    5\n",
       "6    6\n",
       "7    7\n",
       "8    8\n",
       "9    9\n",
       "dtype: int64"
      ]
     },
     "execution_count": 14,
     "metadata": {},
     "output_type": "execute_result"
    }
   ],
   "source": [
    "# program to create a subset of a given series based on value and condition.\n",
    "ds = pd.Series([0, 1, 2, 3, 4, 5, 6, 7, 8, 9])\n",
    "ds"
   ]
  },
  {
   "cell_type": "code",
   "execution_count": 16,
   "id": "5f79ceff",
   "metadata": {},
   "outputs": [
    {
     "data": {
      "text/plain": [
       "0    0\n",
       "1    1\n",
       "2    2\n",
       "3    3\n",
       "4    4\n",
       "5    5\n",
       "dtype: int64"
      ]
     },
     "execution_count": 16,
     "metadata": {},
     "output_type": "execute_result"
    }
   ],
   "source": [
    "n = 6\n",
    "new_s = ds[ds<n]\n",
    "new_s"
   ]
  },
  {
   "cell_type": "code",
   "execution_count": 20,
   "id": "e141e266",
   "metadata": {},
   "outputs": [
    {
     "data": {
      "text/plain": [
       "a    1\n",
       "b    2\n",
       "c    3\n",
       "d    4\n",
       "e    5\n",
       "f    6\n",
       "g    7\n",
       "dtype: int64"
      ]
     },
     "execution_count": 20,
     "metadata": {},
     "output_type": "execute_result"
    }
   ],
   "source": [
    "#program to change the order of index of a given series.\n",
    "ds = pd.Series([1, 2, 3, 4, 5, 6, 7], index=['a', 'b', 'c', 'd', 'e', 'f', 'g'])\n",
    "ds"
   ]
  },
  {
   "cell_type": "code",
   "execution_count": 21,
   "id": "c9ff56b8",
   "metadata": {},
   "outputs": [
    {
     "data": {
      "text/plain": [
       "b    2\n",
       "a    1\n",
       "c    3\n",
       "f    6\n",
       "e    5\n",
       "d    4\n",
       "g    7\n",
       "dtype: int64"
      ]
     },
     "execution_count": 21,
     "metadata": {},
     "output_type": "execute_result"
    }
   ],
   "source": [
    "ds = ds.reindex(index=['b', 'a', 'c', 'f', 'e', 'd', 'g'])\n",
    "ds"
   ]
  },
  {
   "cell_type": "code",
   "execution_count": 22,
   "id": "e7a89d97",
   "metadata": {},
   "outputs": [
    {
     "data": {
      "text/plain": [
       "0    1\n",
       "2    3\n",
       "4    5\n",
       "dtype: int64"
      ]
     },
     "execution_count": 22,
     "metadata": {},
     "output_type": "execute_result"
    }
   ],
   "source": [
    "#program to get the items of a given series not present in another given series.\n",
    "sr1 = pd.Series([1, 2, 3, 4, 5])\n",
    "sr2 = pd.Series([2, 4, 6, 8, 10])\n",
    "ds = sr1[~sr1.isin(sr2)]\n",
    "ds"
   ]
  },
  {
   "cell_type": "code",
   "execution_count": 26,
   "id": "07cab8c4",
   "metadata": {},
   "outputs": [
    {
     "data": {
      "text/plain": [
       "0     1\n",
       "2     3\n",
       "4     5\n",
       "5     6\n",
       "6     8\n",
       "7    10\n",
       "dtype: int64"
      ]
     },
     "execution_count": 26,
     "metadata": {},
     "output_type": "execute_result"
    }
   ],
   "source": [
    "#program to get the items which are not common of two given series.\n",
    "sr11 = pd.Series(np.union1d(sr1,sr2))\n",
    "sr12 = pd.Series(np.intersect1d(sr1, sr2))\n",
    "ds = sr11[~sr11.isin(sr12)]\n",
    "ds"
   ]
  },
  {
   "cell_type": "code",
   "execution_count": 29,
   "id": "589d5a6d",
   "metadata": {},
   "outputs": [
    {
     "data": {
      "text/plain": [
       "0      3.000938\n",
       "1     11.370722\n",
       "2     14.612143\n",
       "3      8.990256\n",
       "4     13.925283\n",
       "5     12.056875\n",
       "6     10.884719\n",
       "7      5.719827\n",
       "8      9.242017\n",
       "9     11.020006\n",
       "10     8.167892\n",
       "11    11.740654\n",
       "12     7.665620\n",
       "13    13.267388\n",
       "14    12.690883\n",
       "15     9.582355\n",
       "16     7.874878\n",
       "17    14.118931\n",
       "18     8.247458\n",
       "19     5.526727\n",
       "dtype: float64"
      ]
     },
     "execution_count": 29,
     "metadata": {},
     "output_type": "execute_result"
    }
   ],
   "source": [
    "#program to compute the minimum, 25th percentile, median, 75th, and maximum of a given series.\n",
    "num_state = np.random.RandomState(100)\n",
    "num_series = pd.Series(num_state.normal(10, 4, 20))\n",
    "num_series"
   ]
  },
  {
   "cell_type": "code",
   "execution_count": 30,
   "id": "bd0319f5",
   "metadata": {},
   "outputs": [
    {
     "data": {
      "text/plain": [
       "array([ 3.00093811,  8.09463867, 10.23353705, 12.21537733, 14.61214321])"
      ]
     },
     "execution_count": 30,
     "metadata": {},
     "output_type": "execute_result"
    }
   ],
   "source": [
    "result = np.percentile(num_series, q=[0, 25, 50, 75,100])\n",
    "result"
   ]
  },
  {
   "cell_type": "code",
   "execution_count": 31,
   "id": "868bbc05",
   "metadata": {},
   "outputs": [
    {
     "data": {
      "text/plain": [
       "0     0\n",
       "1     5\n",
       "2     5\n",
       "3     1\n",
       "4     4\n",
       "5     6\n",
       "6     7\n",
       "7     0\n",
       "8     5\n",
       "9     0\n",
       "10    1\n",
       "11    9\n",
       "12    6\n",
       "13    7\n",
       "14    5\n",
       "15    3\n",
       "16    4\n",
       "17    0\n",
       "18    7\n",
       "19    0\n",
       "20    8\n",
       "21    3\n",
       "22    4\n",
       "23    4\n",
       "24    4\n",
       "25    1\n",
       "26    5\n",
       "27    7\n",
       "28    9\n",
       "29    3\n",
       "30    4\n",
       "31    0\n",
       "32    7\n",
       "33    7\n",
       "34    7\n",
       "35    2\n",
       "36    5\n",
       "37    1\n",
       "38    1\n",
       "39    4\n",
       "dtype: int32"
      ]
     },
     "execution_count": 31,
     "metadata": {},
     "output_type": "execute_result"
    }
   ],
   "source": [
    "#alculate the frequency counts of each unique value of a given series.\n",
    "\n",
    "series = pd.Series(np.random.randint(10, size=40))\n",
    "series"
   ]
  },
  {
   "cell_type": "code",
   "execution_count": 32,
   "id": "d8691273",
   "metadata": {},
   "outputs": [
    {
     "data": {
      "text/plain": [
       "4    7\n",
       "7    7\n",
       "0    6\n",
       "5    6\n",
       "1    5\n",
       "3    3\n",
       "6    2\n",
       "9    2\n",
       "8    1\n",
       "2    1\n",
       "dtype: int64"
      ]
     },
     "execution_count": 32,
     "metadata": {},
     "output_type": "execute_result"
    }
   ],
   "source": [
    "series.value_counts()"
   ]
  },
  {
   "cell_type": "code",
   "execution_count": 33,
   "id": "06345d7d",
   "metadata": {},
   "outputs": [
    {
     "data": {
      "text/plain": [
       "0     1\n",
       "1     3\n",
       "2     7\n",
       "3    12\n",
       "4    88\n",
       "5    23\n",
       "6     3\n",
       "7     1\n",
       "8     9\n",
       "9     0\n",
       "dtype: int64"
      ]
     },
     "execution_count": 33,
     "metadata": {},
     "output_type": "execute_result"
    }
   ],
   "source": [
    "#Pandas program to find the index of the first occurrence of the smallest and largest value of a given series. \n",
    "ds = pd.Series([1,3,7,12,88,23,3,1,9,0])\n",
    "ds"
   ]
  },
  {
   "cell_type": "code",
   "execution_count": 34,
   "id": "e13e886f",
   "metadata": {},
   "outputs": [
    {
     "data": {
      "text/plain": [
       "9"
      ]
     },
     "execution_count": 34,
     "metadata": {},
     "output_type": "execute_result"
    }
   ],
   "source": [
    "ds.idxmin()"
   ]
  },
  {
   "cell_type": "code",
   "execution_count": 35,
   "id": "e0677322",
   "metadata": {},
   "outputs": [
    {
     "data": {
      "text/plain": [
       "4"
      ]
     },
     "execution_count": 35,
     "metadata": {},
     "output_type": "execute_result"
    }
   ],
   "source": [
    "ds.idxmax()"
   ]
  },
  {
   "cell_type": "code",
   "execution_count": 36,
   "id": "bc11c4e2",
   "metadata": {},
   "outputs": [
    {
     "data": {
      "text/plain": [
       "0    True\n",
       "1    True\n",
       "2    True\n",
       "3    True\n",
       "4    True\n",
       "5    True\n",
       "6    True\n",
       "7    True\n",
       "8    True\n",
       "9    True\n",
       "dtype: bool"
      ]
     },
     "execution_count": 36,
     "metadata": {},
     "output_type": "execute_result"
    }
   ],
   "source": [
    "#Pandas program to check the equality of two given series.\n",
    "# 0 1\n",
    "# 1 8\n",
    "# 2 7\n",
    "# 3 5\n",
    "# 4 6\n",
    "# 5 5\n",
    "# 6 3\n",
    "# 7 4\n",
    "# 8 7\n",
    "# 9 1\n",
    "ds1 = pd.Series([1, 8, 7, 5, 6, 5, 3, 4, 7, 1])\n",
    "ds2 = pd.Series([1, 8, 7, 5, 6, 5, 3, 4, 7, 1])\n",
    "ds1 == ds2"
   ]
  },
  {
   "cell_type": "code",
   "execution_count": 43,
   "id": "d8eec85a",
   "metadata": {},
   "outputs": [
    {
     "name": "stderr",
     "output_type": "stream",
     "text": [
      "C:\\Users\\Lenovo\\AppData\\Local\\Temp\\ipykernel_9228\\1683322154.py:4: FutureWarning: The series.append method is deprecated and will be removed from pandas in a future version. Use pandas.concat instead.\n",
      "  a.append(b)\n"
     ]
    },
    {
     "data": {
      "text/html": [
       "<div>\n",
       "<style scoped>\n",
       "    .dataframe tbody tr th:only-of-type {\n",
       "        vertical-align: middle;\n",
       "    }\n",
       "\n",
       "    .dataframe tbody tr th {\n",
       "        vertical-align: top;\n",
       "    }\n",
       "\n",
       "    .dataframe thead th {\n",
       "        text-align: right;\n",
       "    }\n",
       "</style>\n",
       "<table border=\"1\" class=\"dataframe\">\n",
       "  <thead>\n",
       "    <tr style=\"text-align: right;\">\n",
       "      <th></th>\n",
       "      <th>0</th>\n",
       "      <th>1</th>\n",
       "    </tr>\n",
       "  </thead>\n",
       "  <tbody>\n",
       "    <tr>\n",
       "      <th>0</th>\n",
       "      <td>0.0</td>\n",
       "      <td>p</td>\n",
       "    </tr>\n",
       "    <tr>\n",
       "      <th>1</th>\n",
       "      <td>1.0</td>\n",
       "      <td>q</td>\n",
       "    </tr>\n",
       "    <tr>\n",
       "      <th>2</th>\n",
       "      <td>2.0</td>\n",
       "      <td>r</td>\n",
       "    </tr>\n",
       "    <tr>\n",
       "      <th>3</th>\n",
       "      <td>3.0</td>\n",
       "      <td>s</td>\n",
       "    </tr>\n",
       "    <tr>\n",
       "      <th>4</th>\n",
       "      <td>4.0</td>\n",
       "      <td>t</td>\n",
       "    </tr>\n",
       "    <tr>\n",
       "      <th>5</th>\n",
       "      <td>5.0</td>\n",
       "      <td>u</td>\n",
       "    </tr>\n",
       "    <tr>\n",
       "      <th>6</th>\n",
       "      <td>6.0</td>\n",
       "      <td>v</td>\n",
       "    </tr>\n",
       "    <tr>\n",
       "      <th>7</th>\n",
       "      <td>7.0</td>\n",
       "      <td>w</td>\n",
       "    </tr>\n",
       "    <tr>\n",
       "      <th>8</th>\n",
       "      <td>8.0</td>\n",
       "      <td>x</td>\n",
       "    </tr>\n",
       "    <tr>\n",
       "      <th>9</th>\n",
       "      <td>9.0</td>\n",
       "      <td>y</td>\n",
       "    </tr>\n",
       "    <tr>\n",
       "      <th>10</th>\n",
       "      <td>NaN</td>\n",
       "      <td>z</td>\n",
       "    </tr>\n",
       "  </tbody>\n",
       "</table>\n",
       "</div>"
      ],
      "text/plain": [
       "      0  1\n",
       "0   0.0  p\n",
       "1   1.0  q\n",
       "2   2.0  r\n",
       "3   3.0  s\n",
       "4   4.0  t\n",
       "5   5.0  u\n",
       "6   6.0  v\n",
       "7   7.0  w\n",
       "8   8.0  x\n",
       "9   9.0  y\n",
       "10  NaN  z"
      ]
     },
     "execution_count": 43,
     "metadata": {},
     "output_type": "execute_result"
    }
   ],
   "source": [
    "#Pandas program to stack two given series vertically and horizontally\n",
    "a = pd.Series(range(10))\n",
    "b = pd.Series(list('pqrstuvwxyz'))\n",
    "a.append(b)\n",
    "df = pd.concat([a, b], axis=1)\n",
    "df"
   ]
  },
  {
   "cell_type": "code",
   "execution_count": 44,
   "id": "29080281",
   "metadata": {},
   "outputs": [
    {
     "data": {
      "text/plain": [
       "['A', 'B', 'C', 'D', 'E', 'F', 'G', 'H']"
      ]
     },
     "execution_count": 44,
     "metadata": {},
     "output_type": "execute_result"
    }
   ],
   "source": [
    "#program to convert given series into a dataframe with its index as another column on the dataframe.\n",
    "char_list = list('ABCDEFGH')\n",
    "char_list"
   ]
  },
  {
   "cell_type": "code",
   "execution_count": 47,
   "id": "194b4d12",
   "metadata": {},
   "outputs": [
    {
     "data": {
      "text/plain": [
       "array([0, 1, 2, 3, 4, 5, 6, 7])"
      ]
     },
     "execution_count": 47,
     "metadata": {},
     "output_type": "execute_result"
    }
   ],
   "source": [
    "np_ser = np.arange(8)\n",
    "np_ser"
   ]
  },
  {
   "cell_type": "code",
   "execution_count": 48,
   "id": "b75622e2",
   "metadata": {},
   "outputs": [],
   "source": [
    "df = dict(zip(char_list, np_ser))"
   ]
  },
  {
   "cell_type": "code",
   "execution_count": 49,
   "id": "39a76850",
   "metadata": {},
   "outputs": [
    {
     "data": {
      "text/plain": [
       "{'A': 0, 'B': 1, 'C': 2, 'D': 3, 'E': 4, 'F': 5, 'G': 6, 'H': 7}"
      ]
     },
     "execution_count": 49,
     "metadata": {},
     "output_type": "execute_result"
    }
   ],
   "source": [
    "df"
   ]
  },
  {
   "cell_type": "code",
   "execution_count": 50,
   "id": "78798d26",
   "metadata": {},
   "outputs": [],
   "source": [
    "ds = pd.Series(df)"
   ]
  },
  {
   "cell_type": "code",
   "execution_count": 51,
   "id": "d2e723a6",
   "metadata": {},
   "outputs": [
    {
     "data": {
      "text/plain": [
       "A    0\n",
       "B    1\n",
       "C    2\n",
       "D    3\n",
       "E    4\n",
       "F    5\n",
       "G    6\n",
       "H    7\n",
       "dtype: int32"
      ]
     },
     "execution_count": 51,
     "metadata": {},
     "output_type": "execute_result"
    }
   ],
   "source": [
    "ds"
   ]
  },
  {
   "cell_type": "code",
   "execution_count": 53,
   "id": "16996e5d",
   "metadata": {},
   "outputs": [],
   "source": [
    "df1 = ds.to_frame().reset_index()"
   ]
  },
  {
   "cell_type": "code",
   "execution_count": 54,
   "id": "4ebe25cd",
   "metadata": {},
   "outputs": [
    {
     "data": {
      "text/html": [
       "<div>\n",
       "<style scoped>\n",
       "    .dataframe tbody tr th:only-of-type {\n",
       "        vertical-align: middle;\n",
       "    }\n",
       "\n",
       "    .dataframe tbody tr th {\n",
       "        vertical-align: top;\n",
       "    }\n",
       "\n",
       "    .dataframe thead th {\n",
       "        text-align: right;\n",
       "    }\n",
       "</style>\n",
       "<table border=\"1\" class=\"dataframe\">\n",
       "  <thead>\n",
       "    <tr style=\"text-align: right;\">\n",
       "      <th></th>\n",
       "      <th>index</th>\n",
       "      <th>0</th>\n",
       "    </tr>\n",
       "  </thead>\n",
       "  <tbody>\n",
       "    <tr>\n",
       "      <th>0</th>\n",
       "      <td>A</td>\n",
       "      <td>0</td>\n",
       "    </tr>\n",
       "    <tr>\n",
       "      <th>1</th>\n",
       "      <td>B</td>\n",
       "      <td>1</td>\n",
       "    </tr>\n",
       "    <tr>\n",
       "      <th>2</th>\n",
       "      <td>C</td>\n",
       "      <td>2</td>\n",
       "    </tr>\n",
       "    <tr>\n",
       "      <th>3</th>\n",
       "      <td>D</td>\n",
       "      <td>3</td>\n",
       "    </tr>\n",
       "    <tr>\n",
       "      <th>4</th>\n",
       "      <td>E</td>\n",
       "      <td>4</td>\n",
       "    </tr>\n",
       "    <tr>\n",
       "      <th>5</th>\n",
       "      <td>F</td>\n",
       "      <td>5</td>\n",
       "    </tr>\n",
       "    <tr>\n",
       "      <th>6</th>\n",
       "      <td>G</td>\n",
       "      <td>6</td>\n",
       "    </tr>\n",
       "    <tr>\n",
       "      <th>7</th>\n",
       "      <td>H</td>\n",
       "      <td>7</td>\n",
       "    </tr>\n",
       "  </tbody>\n",
       "</table>\n",
       "</div>"
      ],
      "text/plain": [
       "  index  0\n",
       "0     A  0\n",
       "1     B  1\n",
       "2     C  2\n",
       "3     D  3\n",
       "4     E  4\n",
       "5     F  5\n",
       "6     G  6\n",
       "7     H  7"
      ]
     },
     "execution_count": 54,
     "metadata": {},
     "output_type": "execute_result"
    }
   ],
   "source": [
    "df1"
   ]
  },
  {
   "cell_type": "code",
   "execution_count": 55,
   "id": "20ba622e",
   "metadata": {},
   "outputs": [
    {
     "data": {
      "text/plain": [
       "0       php\n",
       "1      java\n",
       "2    python\n",
       "3        c#\n",
       "dtype: object"
      ]
     },
     "execution_count": 55,
     "metadata": {},
     "output_type": "execute_result"
    }
   ],
   "source": [
    "# program convert the first and last character of each word to upper case in each word of a given series. \n",
    "\n",
    "ds = pd.Series([\"php\", 'java', 'python', 'c#'])\n",
    "ds"
   ]
  },
  {
   "cell_type": "code",
   "execution_count": 60,
   "id": "2baeac24",
   "metadata": {},
   "outputs": [
    {
     "data": {
      "text/plain": [
       "0       PhP\n",
       "1      JavA\n",
       "2    PythoN\n",
       "3        C#\n",
       "dtype: object"
      ]
     },
     "execution_count": 60,
     "metadata": {},
     "output_type": "execute_result"
    }
   ],
   "source": [
    "ds.map(lambda x: x[0].upper() + x[1:-1] + x[-1].upper())"
   ]
  },
  {
   "cell_type": "code",
   "execution_count": 3,
   "id": "92f76e0f",
   "metadata": {},
   "outputs": [],
   "source": [
    "import pandas as pd\n",
    "import numpy as np"
   ]
  },
  {
   "cell_type": "code",
   "execution_count": 2,
   "id": "553c430e",
   "metadata": {},
   "outputs": [],
   "source": [
    "\n",
    "#Write a Pandas program to display most frequent value in a given series and replace everything else as ‘Other’ in the series."
   ]
  },
  {
   "cell_type": "code",
   "execution_count": 5,
   "id": "0edbb9e3",
   "metadata": {},
   "outputs": [
    {
     "data": {
      "text/plain": [
       "0     2\n",
       "1     1\n",
       "2     3\n",
       "3     2\n",
       "4     3\n",
       "5     1\n",
       "6     4\n",
       "7     3\n",
       "8     2\n",
       "9     3\n",
       "10    2\n",
       "11    4\n",
       "12    4\n",
       "13    3\n",
       "14    2\n",
       "dtype: int32"
      ]
     },
     "execution_count": 5,
     "metadata": {},
     "output_type": "execute_result"
    }
   ],
   "source": [
    "ds = pd.Series(np.random.randint(1, 5, size=15))\n",
    "ds"
   ]
  },
  {
   "cell_type": "code",
   "execution_count": 6,
   "id": "07f270ea",
   "metadata": {},
   "outputs": [
    {
     "data": {
      "text/plain": [
       "2    5\n",
       "3    5\n",
       "4    3\n",
       "1    2\n",
       "dtype: int64"
      ]
     },
     "execution_count": 6,
     "metadata": {},
     "output_type": "execute_result"
    }
   ],
   "source": [
    "ds.value_counts()"
   ]
  },
  {
   "cell_type": "code",
   "execution_count": 7,
   "id": "ddc6fcb6",
   "metadata": {},
   "outputs": [
    {
     "data": {
      "text/plain": [
       "'Other'"
      ]
     },
     "execution_count": 7,
     "metadata": {},
     "output_type": "execute_result"
    }
   ],
   "source": [
    "result = ds[~ds.isin(ds.value_counts().index[:1])] = 'Other'\n",
    "result"
   ]
  },
  {
   "cell_type": "code",
   "execution_count": 8,
   "id": "682c2651",
   "metadata": {},
   "outputs": [
    {
     "data": {
      "text/plain": [
       "0         2\n",
       "1     Other\n",
       "2     Other\n",
       "3         2\n",
       "4     Other\n",
       "5     Other\n",
       "6     Other\n",
       "7     Other\n",
       "8         2\n",
       "9     Other\n",
       "10        2\n",
       "11    Other\n",
       "12    Other\n",
       "13    Other\n",
       "14        2\n",
       "dtype: object"
      ]
     },
     "execution_count": 8,
     "metadata": {},
     "output_type": "execute_result"
    }
   ],
   "source": [
    "ds"
   ]
  },
  {
   "cell_type": "code",
   "execution_count": 17,
   "id": "315f0640",
   "metadata": {},
   "outputs": [
    {
     "data": {
      "text/plain": [
       "0    17\n",
       "1    16\n",
       "2    15\n",
       "3    10\n",
       "4    17\n",
       "5    12\n",
       "6    18\n",
       "7    17\n",
       "8    11\n",
       "dtype: int32"
      ]
     },
     "execution_count": 17,
     "metadata": {},
     "output_type": "execute_result"
    }
   ],
   "source": [
    "#Write a Pandas program to find the positions of numbers that are multiples of 5 of a given series.\n",
    "ds1 = pd.Series(np.random.randint(10, 20, 9))\n",
    "ds1"
   ]
  },
  {
   "cell_type": "code",
   "execution_count": 22,
   "id": "e0c144a1",
   "metadata": {},
   "outputs": [
    {
     "data": {
      "text/plain": [
       "2    15\n",
       "3    10\n",
       "dtype: int32"
      ]
     },
     "execution_count": 22,
     "metadata": {},
     "output_type": "execute_result"
    }
   ],
   "source": [
    "ds1[ds1%5 == 0]"
   ]
  },
  {
   "cell_type": "code",
   "execution_count": 18,
   "id": "9926fca4",
   "metadata": {},
   "outputs": [],
   "source": [
    "result = np.where(ds1%5 == 0)"
   ]
  },
  {
   "cell_type": "code",
   "execution_count": 19,
   "id": "c52f3365",
   "metadata": {},
   "outputs": [
    {
     "data": {
      "text/plain": [
       "(array([2, 3], dtype=int64),)"
      ]
     },
     "execution_count": 19,
     "metadata": {},
     "output_type": "execute_result"
    }
   ],
   "source": [
    "result"
   ]
  },
  {
   "cell_type": "code",
   "execution_count": 23,
   "id": "12effd23",
   "metadata": {},
   "outputs": [
    {
     "data": {
      "text/plain": [
       "0     0\n",
       "1     2\n",
       "2     3\n",
       "3     5\n",
       "4     6\n",
       "5     8\n",
       "6     9\n",
       "7     7\n",
       "8     4\n",
       "9     5\n",
       "10    8\n",
       "11    9\n",
       "12    6\n",
       "dtype: object"
      ]
     },
     "execution_count": 23,
     "metadata": {},
     "output_type": "execute_result"
    }
   ],
   "source": [
    "#Write a Pandas program to extract items at given positions of a given series.\n",
    "ds2 = pd.Series(list('0235689745896'))\n",
    "ds2"
   ]
  },
  {
   "cell_type": "code",
   "execution_count": 24,
   "id": "92942cf4",
   "metadata": {},
   "outputs": [
    {
     "data": {
      "text/plain": [
       "2    3\n",
       "5    8\n",
       "7    7\n",
       "0    0\n",
       "dtype: object"
      ]
     },
     "execution_count": 24,
     "metadata": {},
     "output_type": "execute_result"
    }
   ],
   "source": [
    "element_pos = ['2', '5', '7', '0']\n",
    "ds2.take(element_pos)"
   ]
  },
  {
   "cell_type": "code",
   "execution_count": 29,
   "id": "7aa3e6ff",
   "metadata": {},
   "outputs": [
    {
     "name": "stdout",
     "output_type": "stream",
     "text": [
      "0     1\n",
      "1     2\n",
      "2     3\n",
      "3     4\n",
      "4     5\n",
      "5     6\n",
      "6     7\n",
      "7     8\n",
      "8     9\n",
      "9    10\n",
      "dtype: int64\n",
      "0     1\n",
      "1     3\n",
      "2     5\n",
      "3     7\n",
      "4    10\n",
      "dtype: int64\n"
     ]
    }
   ],
   "source": [
    "#Write a Pandas program to get the positions of items of a given series in another given series.\n",
    "series1 = pd.Series([1, 2, 3, 4, 5, 6, 7, 8, 9, 10])\n",
    "series2 = pd.Series([1, 3, 5, 7, 10])\n",
    "print(series1)\n",
    "print(series2)"
   ]
  },
  {
   "cell_type": "code",
   "execution_count": 30,
   "id": "b9ee5047",
   "metadata": {},
   "outputs": [
    {
     "data": {
      "text/plain": [
       "[0, 2, 4, 6, 9]"
      ]
     },
     "execution_count": 30,
     "metadata": {},
     "output_type": "execute_result"
    }
   ],
   "source": [
    "result = [pd.Index(series1).get_loc(i) for i in series2]\n",
    "result"
   ]
  },
  {
   "cell_type": "code",
   "execution_count": 38,
   "id": "85de4a0e",
   "metadata": {},
   "outputs": [],
   "source": [
    "# Write a Pandas program to filter words from a given series that contain atleast two vowels. \n",
    "\n",
    "from collections import Counter\n",
    " \n",
    "color_series = pd.Series(['Red', 'Green', 'Orange', 'Pink', 'Yellow', 'White'])\n",
    "result = color_series.map(lambda c: sum([Counter(c.lower()).get(i, 0) for i in list('aeiou')]) >= 2)"
   ]
  },
  {
   "cell_type": "code",
   "execution_count": 41,
   "id": "350ac184",
   "metadata": {},
   "outputs": [
    {
     "data": {
      "text/plain": [
       "1     Green\n",
       "2    Orange\n",
       "4    Yellow\n",
       "5     White\n",
       "dtype: object"
      ]
     },
     "execution_count": 41,
     "metadata": {},
     "output_type": "execute_result"
    }
   ],
   "source": [
    "color_series[result]"
   ]
  },
  {
   "cell_type": "code",
   "execution_count": 43,
   "id": "0c33d693",
   "metadata": {},
   "outputs": [
    {
     "data": {
      "text/plain": [
       "0    False\n",
       "1     True\n",
       "2     True\n",
       "3    False\n",
       "4     True\n",
       "5     True\n",
       "dtype: bool"
      ]
     },
     "execution_count": 43,
     "metadata": {},
     "output_type": "execute_result"
    }
   ],
   "source": [
    "color_series.map(lambda c: sum([Counter(c.lower()).get(i, 0) for i in list('aeiou')]) >= 2)"
   ]
  },
  {
   "cell_type": "code",
   "execution_count": null,
   "id": "1e57b366",
   "metadata": {},
   "outputs": [],
   "source": []
  }
 ],
 "metadata": {
  "kernelspec": {
   "display_name": "Python 3 (ipykernel)",
   "language": "python",
   "name": "python3"
  },
  "language_info": {
   "codemirror_mode": {
    "name": "ipython",
    "version": 3
   },
   "file_extension": ".py",
   "mimetype": "text/x-python",
   "name": "python",
   "nbconvert_exporter": "python",
   "pygments_lexer": "ipython3",
   "version": "3.9.12"
  }
 },
 "nbformat": 4,
 "nbformat_minor": 5
}
