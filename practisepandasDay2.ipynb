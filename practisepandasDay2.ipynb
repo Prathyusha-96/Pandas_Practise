{
 "cells": [
  {
   "cell_type": "markdown",
   "id": "e3216e1c",
   "metadata": {},
   "source": [
    "# Basic practise"
   ]
  },
  {
   "cell_type": "code",
   "execution_count": 2,
   "id": "b0bb3f90",
   "metadata": {},
   "outputs": [
    {
     "name": "stdout",
     "output_type": "stream",
     "text": [
      "    cars  passings\n",
      "0  volvo         1\n",
      "1    bmw         2\n",
      "2   ford         5\n"
     ]
    }
   ],
   "source": [
    "import pandas as pd\n",
    "mydataset = {'cars':['volvo','bmw','ford'],\n",
    "            'passings': [1, 2, 5]}\n",
    "myvar = pd.DataFrame(mydataset)\n",
    "print(myvar)"
   ]
  },
  {
   "cell_type": "code",
   "execution_count": 3,
   "id": "fdeddb7a",
   "metadata": {},
   "outputs": [
    {
     "name": "stdout",
     "output_type": "stream",
     "text": [
      "0    1\n",
      "1    7\n",
      "2    2\n",
      "dtype: int64\n"
     ]
    }
   ],
   "source": [
    "import pandas as pd\n",
    "a = [1, 7, 2]\n",
    "\n",
    "myvar = pd.Series(a)\n",
    "\n",
    "print(myvar)"
   ]
  },
  {
   "cell_type": "code",
   "execution_count": 4,
   "id": "aee3e58b",
   "metadata": {},
   "outputs": [
    {
     "name": "stdout",
     "output_type": "stream",
     "text": [
      "0    2\n",
      "1    4\n",
      "2    6\n",
      "3    5\n",
      "4    9\n",
      "dtype: int64\n"
     ]
    }
   ],
   "source": [
    "#List-to-Series Conversion\n",
    "import pandas as pd\n",
    "list1 = [2, 4, 6, 5, 9]\n",
    "my_list = pd.Series(list1)\n",
    "print(my_list)"
   ]
  },
  {
   "cell_type": "code",
   "execution_count": 5,
   "id": "4972c0d1",
   "metadata": {},
   "outputs": [
    {
     "name": "stdout",
     "output_type": "stream",
     "text": [
      "1    2\n",
      "3    4\n",
      "5    5\n",
      "7    6\n",
      "9    7\n",
      "dtype: int64\n"
     ]
    }
   ],
   "source": [
    "#List-to-Series Conversion with Custom Indexi\n",
    "import pandas as pd\n",
    "given_list = [2, 4, 5, 6, 7]\n",
    "series = pd.Series(given_list, index= [1, 3, 5, 7, 9])\n",
    "print(series)"
   ]
  },
  {
   "cell_type": "code",
   "execution_count": 6,
   "id": "1d107e00",
   "metadata": {},
   "outputs": [
    {
     "name": "stdout",
     "output_type": "stream",
     "text": [
      "   Name  Age\n",
      "0  geek   25\n",
      "1  john   12\n",
      "2   deo   42\n",
      "3  cris   32\n"
     ]
    }
   ],
   "source": [
    "#Make a Pandas DataFrame with two-dimensional list\n",
    "import pandas as pd\n",
    "list1 = [['geek', 25],['john', 12],['deo', 42],['cris', 32]]\n",
    "df = pd.DataFrame(list1, columns=['Name','Age'])\n",
    "print(df)"
   ]
  },
  {
   "cell_type": "code",
   "execution_count": 7,
   "id": "80347185",
   "metadata": {},
   "outputs": [
    {
     "name": "stdout",
     "output_type": "stream",
     "text": [
      "  fname lname occupation\n",
      "0  john   deo    painter\n",
      "1  cris   jef     artist\n",
      "2    ab    cd      coder\n"
     ]
    }
   ],
   "source": [
    "import pandas as pd\n",
    "list1=[['john', 'deo', 'painter'],['cris','jef','artist'],['ab','cd','coder']]\n",
    "df = pd.DataFrame(list1, columns=['fname','lname','occupation'])\n",
    "print(df)"
   ]
  },
  {
   "cell_type": "code",
   "execution_count": 8,
   "id": "dc142161",
   "metadata": {},
   "outputs": [
    {
     "name": "stdout",
     "output_type": "stream",
     "text": [
      "  Category  Marks\n",
      "0    Array     20\n",
      "1    Stack     21\n",
      "2    Queue     19\n"
     ]
    }
   ],
   "source": [
    "#Python | Creating DataFrame from dict of narray/lists\n",
    "import pandas as pd\n",
    "data = {'Category':['Array', 'Stack', 'Queue'],\n",
    "        'Marks':[20, 21, 19]}\n",
    "df = pd.DataFrame(data)\n",
    "print(df)"
   ]
  },
  {
   "cell_type": "code",
   "execution_count": 9,
   "id": "585c1328",
   "metadata": {},
   "outputs": [
    {
     "name": "stdout",
     "output_type": "stream",
     "text": [
      "               0      1      2\n",
      "Category   Array  Stack  Queue\n",
      "Student_1     20     21     19\n",
      "Student_2     15     20     14\n"
     ]
    }
   ],
   "source": [
    "import pandas as pd\n",
    "data = {'Category':['Array', 'Stack', 'Queue'],\n",
    "        'Student_1':[20, 21, 19], 'Student_2':[15, 20, 14]}\n",
    "df = pd.DataFrame(data)\n",
    "print(df.transpose())\n",
    "    \n"
   ]
  },
  {
   "cell_type": "code",
   "execution_count": 10,
   "id": "254bf820",
   "metadata": {},
   "outputs": [
    {
     "name": "stdout",
     "output_type": "stream",
     "text": [
      "        Area  Student_1  Student_2\n",
      "cat_1  Array         20         15\n",
      "cat_2  Stack         21         20\n",
      "cat_3  Queue         19         14\n"
     ]
    }
   ],
   "source": [
    "import pandas as pd\n",
    "data = {'Area':['Array', 'Stack', 'Queue'],\n",
    "        'Student_1':[20, 21, 19], 'Student_2':[15, 20, 14]}\n",
    "df = pd.DataFrame(data, index=['cat_1','cat_2','cat_3'])\n",
    "print(df)"
   ]
  },
  {
   "cell_type": "code",
   "execution_count": 11,
   "id": "72f94080",
   "metadata": {},
   "outputs": [
    {
     "name": "stdout",
     "output_type": "stream",
     "text": [
      "   Name  Age\n",
      "0  john   25\n",
      "1  cris   26\n",
      "2  cris   23\n"
     ]
    }
   ],
   "source": [
    "#Creating Pandas dataframe using list of lists\n",
    "import pandas as pd\n",
    "data = [['john', 25],['cris', 26],['cris', 23]]\n",
    "df = pd.DataFrame(data, columns=['Name','Age'])\n",
    "print(df)"
   ]
  },
  {
   "cell_type": "code",
   "execution_count": 12,
   "id": "edbccde6",
   "metadata": {},
   "outputs": [],
   "source": [
    "import pandas as pd\n",
    "data = [['DS', 'Linked_list', 10], ['DS', 'Stack', 9], ['DS', 'Queue', 7],\n",
    "        ['Algo', 'Greedy', 8], ['Algo', 'DP', 6], ['Algo', 'BackTrack', 5], ]\n",
    "df = pd.DataFrame(data, columns=['category', 'name', 'ma'])"
   ]
  },
  {
   "cell_type": "code",
   "execution_count": 15,
   "id": "51ae569f",
   "metadata": {},
   "outputs": [
    {
     "name": "stdout",
     "output_type": "stream",
     "text": [
      "0     2\n",
      "1     4\n",
      "2     6\n",
      "3     5\n",
      "4     8\n",
      "5    10\n",
      "dtype: int64\n"
     ]
    }
   ],
   "source": [
    "#one dimensional object array\n",
    "import pandas as pd\n",
    "ds = pd.Series([2, 4, 6, 5, 8, 10])\n",
    "print(ds)"
   ]
  },
  {
   "cell_type": "code",
   "execution_count": 18,
   "id": "5fa38f19",
   "metadata": {},
   "outputs": [
    {
     "name": "stdout",
     "output_type": "stream",
     "text": [
      "0     2\n",
      "1     4\n",
      "2     6\n",
      "3     8\n",
      "4    10\n",
      "dtype: int64\n",
      "<class 'pandas.core.series.Series'>\n"
     ]
    }
   ],
   "source": [
    "#convert a Panda module Series to Python list\n",
    "import pandas as pd\n",
    "ds = pd.Series([2, 4, 6, 8, 10])\n",
    "print(ds)\n",
    "print(type(ds))\n"
   ]
  },
  {
   "cell_type": "code",
   "execution_count": 20,
   "id": "4a389c3b",
   "metadata": {},
   "outputs": [
    {
     "name": "stdout",
     "output_type": "stream",
     "text": [
      "[2, 4, 6, 8, 10]\n",
      "<class 'list'>\n"
     ]
    }
   ],
   "source": [
    "print(ds.tolist())\n",
    "print(type((ds.tolist())))"
   ]
  },
  {
   "cell_type": "code",
   "execution_count": 21,
   "id": "768e8892",
   "metadata": {},
   "outputs": [
    {
     "data": {
      "text/plain": [
       "0     3\n",
       "1     7\n",
       "2    11\n",
       "3    15\n",
       "4    19\n",
       "dtype: int64"
      ]
     },
     "execution_count": 21,
     "metadata": {},
     "output_type": "execute_result"
    }
   ],
   "source": [
    "#to add, subtract, multiple and divide two Pandas Series.\n",
    "import pandas as pd\n",
    "ds1= pd.Series([2, 4, 6, 8, 10])\n",
    "ds2=pd.Series( [1, 3, 5, 7, 9]) \n",
    "ds1 + ds2"
   ]
  },
  {
   "cell_type": "code",
   "execution_count": 22,
   "id": "e50690c8",
   "metadata": {},
   "outputs": [
    {
     "data": {
      "text/plain": [
       "0    1\n",
       "1    1\n",
       "2    1\n",
       "3    1\n",
       "4    1\n",
       "dtype: int64"
      ]
     },
     "execution_count": 22,
     "metadata": {},
     "output_type": "execute_result"
    }
   ],
   "source": [
    "ds1 -ds2"
   ]
  },
  {
   "cell_type": "code",
   "execution_count": 23,
   "id": "c46ddf63",
   "metadata": {},
   "outputs": [
    {
     "data": {
      "text/plain": [
       "0     2\n",
       "1    12\n",
       "2    30\n",
       "3    56\n",
       "4    90\n",
       "dtype: int64"
      ]
     },
     "execution_count": 23,
     "metadata": {},
     "output_type": "execute_result"
    }
   ],
   "source": [
    "ds1* ds2"
   ]
  },
  {
   "cell_type": "code",
   "execution_count": 24,
   "id": "e85100a5",
   "metadata": {},
   "outputs": [
    {
     "data": {
      "text/plain": [
       "0    2.000000\n",
       "1    1.333333\n",
       "2    1.200000\n",
       "3    1.142857\n",
       "4    1.111111\n",
       "dtype: float64"
      ]
     },
     "execution_count": 24,
     "metadata": {},
     "output_type": "execute_result"
    }
   ],
   "source": [
    "ds1 /ds2"
   ]
  },
  {
   "cell_type": "code",
   "execution_count": 25,
   "id": "bbed1bf2",
   "metadata": {},
   "outputs": [
    {
     "data": {
      "text/plain": [
       "a    100\n",
       "b    200\n",
       "c    300\n",
       "d    400\n",
       "e    800\n",
       "dtype: int64"
      ]
     },
     "execution_count": 25,
     "metadata": {},
     "output_type": "execute_result"
    }
   ],
   "source": [
    "# convert a dictionary to a Pandas series\n",
    "import pandas as pd\n",
    "ds =pd.Series({'a': 100, 'b': 200, 'c': 300, 'd': 400, 'e': 800})\n",
    "ds"
   ]
  },
  {
   "cell_type": "code",
   "execution_count": 31,
   "id": "ca8d5705",
   "metadata": {},
   "outputs": [
    {
     "data": {
      "text/plain": [
       "0    10\n",
       "1    20\n",
       "2    30\n",
       "3    40\n",
       "4    50\n",
       "dtype: int32"
      ]
     },
     "execution_count": 31,
     "metadata": {},
     "output_type": "execute_result"
    }
   ],
   "source": [
    "#convert a NumPy array to a Pandas series.\n",
    "import numpy as np\n",
    "import pandas as pd\n",
    "np_array = np.array([10, 20, 30, 40, 50])\n",
    "np_array\n",
    "ds = pd.Series(np_array)\n",
    "ds"
   ]
  },
  {
   "cell_type": "code",
   "execution_count": 42,
   "id": "ecb603ef",
   "metadata": {},
   "outputs": [
    {
     "data": {
      "text/plain": [
       "0    100.00\n",
       "1    200.00\n",
       "2       NaN\n",
       "3    300.12\n",
       "4      4.00\n",
       "5    400.00\n",
       "dtype: float64"
      ]
     },
     "execution_count": 42,
     "metadata": {},
     "output_type": "execute_result"
    }
   ],
   "source": [
    "#change the data type of given a column or a Series.\n",
    "import pandas as pd\n",
    "ds = pd.Series(['100','200','python','300.12','4', '400'])\n",
    "s2 = pd.to_numeric(ds, errors='coerce')\n",
    "s2"
   ]
  },
  {
   "cell_type": "code",
   "execution_count": 44,
   "id": "8dca8d48",
   "metadata": {},
   "outputs": [
    {
     "data": {
      "text/html": [
       "<div>\n",
       "<style scoped>\n",
       "    .dataframe tbody tr th:only-of-type {\n",
       "        vertical-align: middle;\n",
       "    }\n",
       "\n",
       "    .dataframe tbody tr th {\n",
       "        vertical-align: top;\n",
       "    }\n",
       "\n",
       "    .dataframe thead th {\n",
       "        text-align: right;\n",
       "    }\n",
       "</style>\n",
       "<table border=\"1\" class=\"dataframe\">\n",
       "  <thead>\n",
       "    <tr style=\"text-align: right;\">\n",
       "      <th></th>\n",
       "      <th>Col1</th>\n",
       "      <th>Col2</th>\n",
       "      <th>Col3</th>\n",
       "    </tr>\n",
       "  </thead>\n",
       "  <tbody>\n",
       "    <tr>\n",
       "      <th>0</th>\n",
       "      <td>1</td>\n",
       "      <td>5</td>\n",
       "      <td>7</td>\n",
       "    </tr>\n",
       "    <tr>\n",
       "      <th>1</th>\n",
       "      <td>2</td>\n",
       "      <td>6</td>\n",
       "      <td>5</td>\n",
       "    </tr>\n",
       "    <tr>\n",
       "      <th>2</th>\n",
       "      <td>3</td>\n",
       "      <td>9</td>\n",
       "      <td>8</td>\n",
       "    </tr>\n",
       "    <tr>\n",
       "      <th>3</th>\n",
       "      <td>4</td>\n",
       "      <td>5</td>\n",
       "      <td>12</td>\n",
       "    </tr>\n",
       "    <tr>\n",
       "      <th>4</th>\n",
       "      <td>7</td>\n",
       "      <td>0</td>\n",
       "      <td>1</td>\n",
       "    </tr>\n",
       "    <tr>\n",
       "      <th>5</th>\n",
       "      <td>11</td>\n",
       "      <td>4</td>\n",
       "      <td>11</td>\n",
       "    </tr>\n",
       "  </tbody>\n",
       "</table>\n",
       "</div>"
      ],
      "text/plain": [
       "   Col1  Col2  Col3\n",
       "0     1     5     7\n",
       "1     2     6     5\n",
       "2     3     9     8\n",
       "3     4     5    12\n",
       "4     7     0     1\n",
       "5    11     4    11"
      ]
     },
     "execution_count": 44,
     "metadata": {},
     "output_type": "execute_result"
    }
   ],
   "source": [
    "#convert the first column of a DataFrame as a Series\n",
    "import pandas as pd\n",
    "df = pd.DataFrame({'Col1':[1,2,3, 4, 7, 11],'Col2':[5, 6, 9, 5, 0, 4], 'Col3':[7, 5, 8, 12, 1, 11]})\n",
    "df"
   ]
  },
  {
   "cell_type": "code",
   "execution_count": 55,
   "id": "6cba676f",
   "metadata": {},
   "outputs": [
    {
     "data": {
      "text/plain": [
       "0     1\n",
       "1     2\n",
       "2     3\n",
       "3     4\n",
       "4     7\n",
       "5    11\n",
       "Name: Col1, dtype: int64"
      ]
     },
     "execution_count": 55,
     "metadata": {},
     "output_type": "execute_result"
    }
   ],
   "source": [
    "s = df.loc[:,'Col1']\n",
    "s"
   ]
  },
  {
   "cell_type": "code",
   "execution_count": 48,
   "id": "6eb26e28",
   "metadata": {},
   "outputs": [
    {
     "data": {
      "text/plain": [
       "0     1\n",
       "1     2\n",
       "2     3\n",
       "3     4\n",
       "4     7\n",
       "5    11\n",
       "Name: Col1, dtype: int64"
      ]
     },
     "execution_count": 48,
     "metadata": {},
     "output_type": "execute_result"
    }
   ],
   "source": [
    "ds = pd.Series(df.Col1)\n",
    "ds"
   ]
  },
  {
   "cell_type": "code",
   "execution_count": 56,
   "id": "f5962af0",
   "metadata": {},
   "outputs": [
    {
     "data": {
      "text/plain": [
       "0       100\n",
       "1       200\n",
       "2    python\n",
       "3    300.12\n",
       "4       400\n",
       "dtype: object"
      ]
     },
     "execution_count": 56,
     "metadata": {},
     "output_type": "execute_result"
    }
   ],
   "source": [
    "#convert a given Series to an array.\n",
    "import pandas as pd\n",
    "import numpy as np\n",
    "ds = pd.Series(['100', '200', 'python', '300.12', '400'])\n",
    "ds"
   ]
  },
  {
   "cell_type": "code",
   "execution_count": 57,
   "id": "422ea7a8",
   "metadata": {},
   "outputs": [
    {
     "data": {
      "text/plain": [
       "array(['100', '200', 'python', '300.12', '400'], dtype='<U6')"
      ]
     },
     "execution_count": 57,
     "metadata": {},
     "output_type": "execute_result"
    }
   ],
   "source": [
    "a = np.array(ds.values.tolist())\n",
    "a"
   ]
  },
  {
   "cell_type": "code",
   "execution_count": 58,
   "id": "b2fd810a",
   "metadata": {},
   "outputs": [
    {
     "data": {
      "text/plain": [
       "0       100\n",
       "1       200\n",
       "2    python\n",
       "3    300.12\n",
       "4       400\n",
       "dtype: object"
      ]
     },
     "execution_count": 58,
     "metadata": {},
     "output_type": "execute_result"
    }
   ],
   "source": [
    "#sort a given Series\n",
    "import pandas as pd\n",
    "ds = pd.Series(['100', '200', 'python', '300.12', '400'])\n",
    "ds"
   ]
  },
  {
   "cell_type": "code",
   "execution_count": 59,
   "id": "f7390776",
   "metadata": {},
   "outputs": [
    {
     "data": {
      "text/plain": [
       "0       100\n",
       "1       200\n",
       "3    300.12\n",
       "4       400\n",
       "2    python\n",
       "dtype: object"
      ]
     },
     "execution_count": 59,
     "metadata": {},
     "output_type": "execute_result"
    }
   ],
   "source": [
    "ds.sort_values()"
   ]
  },
  {
   "cell_type": "code",
   "execution_count": 60,
   "id": "23de86d4",
   "metadata": {},
   "outputs": [
    {
     "data": {
      "text/plain": [
       "0       100\n",
       "1       200\n",
       "2    python\n",
       "3    300.12\n",
       "4       400\n",
       "dtype: object"
      ]
     },
     "execution_count": 60,
     "metadata": {},
     "output_type": "execute_result"
    }
   ],
   "source": [
    "# add some data to an existing Series.\n",
    "import pandas as pd\n",
    "ds = pd.Series(['100', '200', 'python', '300.12', '400'])\n",
    "ds\n"
   ]
  },
  {
   "cell_type": "code",
   "execution_count": 61,
   "id": "dd05fdf0",
   "metadata": {},
   "outputs": [
    {
     "name": "stderr",
     "output_type": "stream",
     "text": [
      "C:\\Users\\Lenovo\\AppData\\Local\\Temp\\ipykernel_3012\\353427329.py:1: FutureWarning: The series.append method is deprecated and will be removed from pandas in a future version. Use pandas.concat instead.\n",
      "  new_s = ds.append(pd.Series(['500','pandas']))\n"
     ]
    },
    {
     "data": {
      "text/plain": [
       "0       100\n",
       "1       200\n",
       "2    python\n",
       "3    300.12\n",
       "4       400\n",
       "0       500\n",
       "1    pandas\n",
       "dtype: object"
      ]
     },
     "execution_count": 61,
     "metadata": {},
     "output_type": "execute_result"
    }
   ],
   "source": [
    "new_s = ds.append(pd.Series(['500','pandas']))\n",
    "new_s"
   ]
  },
  {
   "cell_type": "code",
   "execution_count": 73,
   "id": "d12f3113",
   "metadata": {},
   "outputs": [],
   "source": [
    "# change the order of index of a given series\n",
    "ds = pd.Series([1, 2, 3, 4, 5], index=['B','A','C','D','E'])"
   ]
  },
  {
   "cell_type": "code",
   "execution_count": 74,
   "id": "2f095e4d",
   "metadata": {},
   "outputs": [
    {
     "data": {
      "text/plain": [
       "B    1\n",
       "A    2\n",
       "C    3\n",
       "D    4\n",
       "E    5\n",
       "dtype: int64"
      ]
     },
     "execution_count": 74,
     "metadata": {},
     "output_type": "execute_result"
    }
   ],
   "source": [
    "ds"
   ]
  },
  {
   "cell_type": "code",
   "execution_count": 78,
   "id": "ca4c97f7",
   "metadata": {},
   "outputs": [
    {
     "data": {
      "text/plain": [
       "2.522624895547565"
      ]
     },
     "execution_count": 78,
     "metadata": {},
     "output_type": "execute_result"
    }
   ],
   "source": [
    "#create the mean and standard deviation of the data of a given Series.\n",
    "ds = pd.Series([1,2,3,4,5,6,7,8,9,5,3])\n",
    "\n",
    "ds.std()\n"
   ]
  },
  {
   "cell_type": "code",
   "execution_count": 83,
   "id": "10faf733",
   "metadata": {},
   "outputs": [
    {
     "data": {
      "text/plain": [
       "4.818181818181818"
      ]
     },
     "execution_count": 83,
     "metadata": {},
     "output_type": "execute_result"
    }
   ],
   "source": [
    "ds.mean()"
   ]
  },
  {
   "cell_type": "code",
   "execution_count": 82,
   "id": "82061e48",
   "metadata": {},
   "outputs": [
    {
     "data": {
      "text/plain": [
       "count    11.000000\n",
       "mean      4.818182\n",
       "std       2.522625\n",
       "min       1.000000\n",
       "25%       3.000000\n",
       "50%       5.000000\n",
       "75%       6.500000\n",
       "max       9.000000\n",
       "dtype: float64"
      ]
     },
     "execution_count": 82,
     "metadata": {},
     "output_type": "execute_result"
    }
   ],
   "source": [
    "ds.describe()"
   ]
  },
  {
   "cell_type": "code",
   "execution_count": 81,
   "id": "fc6f769c",
   "metadata": {},
   "outputs": [
    {
     "data": {
      "text/plain": [
       "12"
      ]
     },
     "execution_count": 81,
     "metadata": {},
     "output_type": "execute_result"
    }
   ],
   "source": [
    "x=(2,3,4)\n",
    "sum(x,3)"
   ]
  },
  {
   "cell_type": "code",
   "execution_count": null,
   "id": "2d4a3248",
   "metadata": {},
   "outputs": [],
   "source": []
  }
 ],
 "metadata": {
  "kernelspec": {
   "display_name": "Python 3 (ipykernel)",
   "language": "python",
   "name": "python3"
  },
  "language_info": {
   "codemirror_mode": {
    "name": "ipython",
    "version": 3
   },
   "file_extension": ".py",
   "mimetype": "text/x-python",
   "name": "python",
   "nbconvert_exporter": "python",
   "pygments_lexer": "ipython3",
   "version": "3.8.13"
  }
 },
 "nbformat": 4,
 "nbformat_minor": 5
}
